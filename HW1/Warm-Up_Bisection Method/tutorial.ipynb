{
  "nbformat": 4,
  "nbformat_minor": 0,
  "metadata": {
    "colab": {
      "provenance": []
    },
    "kernelspec": {
      "name": "python3",
      "display_name": "Python 3"
    },
    "language_info": {
      "name": "python"
    }
  },
  "cells": [
    {
      "cell_type": "markdown",
      "source": [
        "**Example 1**\n",
        "\n",
        "Finding the root of $x^3-4x$."
      ],
      "metadata": {
        "id": "yzKo4Cqias8G"
      }
    },
    {
      "cell_type": "code",
      "source": [
        "import numpy as np\n",
        "import bisection_method as bm\n",
        "\n",
        "def func_example(x):\n",
        "  return x**3 - 4 * x\n",
        "\n",
        "abs_tol = 10**(-10)\n",
        "rel_tol = 10**(-10)\n",
        "max_iter = 50\n",
        "verbose = False\n",
        "\n",
        "a = 1\n",
        "b = 4\n",
        "known_answer = 2\n",
        "\n",
        "solver = bm.BisectionSolver(abs_tol = abs_tol, rel_tol = rel_tol, max_iter = max_iter, verbose = verbose)\n",
        "calculated_answer = solver.solve( func_example, a, b )\n",
        "\n",
        "print(f'The calculated answer is {calculated_answer}, the known answer is {known_answer}')\n",
        "print( f'The test result is {np.isclose( calculated_answer, known_answer )} \\n')\n"
      ],
      "metadata": {
        "colab": {
          "base_uri": "https://localhost:8080/"
        },
        "id": "LSOBuVbJa3tU",
        "outputId": "69d3ddca-8cb3-48f3-9770-db03fd35f9a5"
      },
      "execution_count": 1,
      "outputs": [
        {
          "output_type": "stream",
          "name": "stdout",
          "text": [
            "The calculated answer is 2.000000000007276, the known answer is 2\n",
            "The test result is True \n",
            "\n"
          ]
        }
      ]
    },
    {
      "cell_type": "markdown",
      "source": [
        "---\n",
        "**Example 2**\n",
        "\n",
        "Fiding the root of $log( x + 8 )$."
      ],
      "metadata": {
        "id": "taQFplfV9hy1"
      }
    },
    {
      "cell_type": "code",
      "source": [
        "import numpy as np\n",
        "import bisection_method as bm\n",
        "import math\n",
        "\n",
        "def func_example(x):\n",
        "  return math.log(x+8)\n",
        "\n",
        "abs_tol = 10**(-10)\n",
        "rel_tol = 10**(-10)\n",
        "max_iter = 50\n",
        "verbose = False\n",
        "\n",
        "a = -7.5\n",
        "b = 5\n",
        "known_answer = -7\n",
        "\n",
        "solver = bm.BisectionSolver(abs_tol = abs_tol, rel_tol = rel_tol, max_iter = max_iter, verbose = verbose)\n",
        "calculated_answer = solver.solve( func_example, a, b )\n",
        "\n",
        "print(f'The calculated answer is {calculated_answer}, the known answer is {known_answer}')\n",
        "print( f'The test result is {np.isclose( calculated_answer, known_answer )} \\n')\n"
      ],
      "metadata": {
        "colab": {
          "base_uri": "https://localhost:8080/"
        },
        "id": "wFXWUPkeW5FN",
        "outputId": "5cb99bd9-df12-4689-cb9a-285529fadfb9"
      },
      "execution_count": 2,
      "outputs": [
        {
          "output_type": "stream",
          "name": "stdout",
          "text": [
            "The calculated answer is -7.000000000034561, the known answer is -7\n",
            "The test result is True \n",
            "\n"
          ]
        }
      ]
    },
    {
      "cell_type": "markdown",
      "source": [
        "---\n",
        "**Example 3**\n",
        "\n",
        "finding the root of $e^x + e^{-x} - 2.2$."
      ],
      "metadata": {
        "id": "PV7SMKny9qKS"
      }
    },
    {
      "cell_type": "code",
      "source": [
        "import numpy as np\n",
        "import bisection_method as bm\n",
        "import math\n",
        "\n",
        "def func_example(x):\n",
        "  return math.e**x + math.e**(-x) - 2.2\n",
        "\n",
        "abs_tol = 10**(-10)\n",
        "rel_tol = 10**(-10)\n",
        "max_iter = 50\n",
        "verbose = False\n",
        "\n",
        "a = 0\n",
        "b = 1\n",
        "known_answer = 0.443568\n",
        "\n",
        "solver = bm.BisectionSolver(abs_tol = abs_tol, rel_tol = rel_tol, max_iter = max_iter, verbose = verbose)\n",
        "calculated_answer = solver.solve( func_example, a, b )\n",
        "\n",
        "print(f'The calculated answer is {calculated_answer}, the known answer is {known_answer}')\n",
        "print( f'The test result is {np.isclose( calculated_answer, known_answer )} \\n')\n"
      ],
      "metadata": {
        "colab": {
          "base_uri": "https://localhost:8080/"
        },
        "id": "t3ISkqN19s9w",
        "outputId": "5450b112-7988-4022-e16a-6f126ea6edc2"
      },
      "execution_count": 3,
      "outputs": [
        {
          "output_type": "stream",
          "name": "stdout",
          "text": [
            "The calculated answer is 0.443568254384445, the known answer is 0.443568\n",
            "The test result is True \n",
            "\n"
          ]
        }
      ]
    },
    {
      "cell_type": "markdown",
      "source": [
        "---\n",
        "**Example 4: Projectile Problem A**\n",
        "\n",
        "A ball is launched at an initial velocity of $V_0$ and the angle  of θ relative to the horizon.    What should the θ be if the ball can travel for $x_{traveled}$ horizentally before it hits the ground?  \n",
        "\n",
        "Find the θ numerically using bisection method, given the following values.\n",
        "\n",
        "$g=9.81 m/s^2$ : gravitational acceleration  \n",
        "$V_0=10 m / s^2$ : initial magnitude of the velocity  \n",
        "$x_{traveled}=10 m$ : the distance that the ball travels horizontally before it hits the ground.  \n",
        "$x$ : horizental coordination   \n",
        "$y$ : vertical coordination     \n",
        "$t$ : time   \n",
        "$t_{ground} $ : the time at which the ball hits the ground        \n",
        "$V_y$ : velocity in the vertical direction  \n",
        "$V_x$ : velocity in the horizental direction  \n",
        "$\\theta$ : The angle that the direction of the velocity makes with the horizon   \n",
        "\n",
        "---\n",
        "**Answer:**  \n",
        "$V_x = V_0 cos(\\theta)$ → $x = \\int_{0}^{t} V_0 cos(\\theta) \\,dt = V_0 cos(\\theta)t$  \n",
        "$V_y = (V_0)_y - g t = V_0 sin(\\theta) - g t$ → $y = \\int_{0}^{t} (V_0 sin(\\theta) - gt) \\,dt = V_0 sin(\\theta)t - \\frac{1}{2}gt^2$  \n",
        "\n",
        "$t$ at $y = 0$ →  $V_0 sin(\\theta)t_{ground} - \\frac{1}{2}gt_{ground}^2=0$ → $t_{ground}=\\frac{2 V_0 sin\\theta}{g}$   \n",
        "$x_{traveled} = V_0 cos(\\theta) \\frac{2 V_0 sin\\theta}{g} = \\frac{V_0^2sin(2\\theta)}{g} $   \n",
        "\n",
        "So we have to solve the following equation for θ:  \n",
        "$x_{traveled} -\\frac{V_0^2sin(2\\theta)}{g} = 0 $    \n",
        "\n",
        "for  $g=9.81 m/s^2, V_0=10 m / s^2, x_{traveled}=10 m$\n",
        "\n",
        "PS: Analytical answer ⇒ $\\theta = \\frac{1}{2}sin^{-1}(\\frac{x_{traveled}g}{V_0^2 })$  \n",
        "\n"
      ],
      "metadata": {
        "id": "z-3GtyLj9taB"
      }
    },
    {
      "cell_type": "code",
      "source": [
        "import numpy as np\n",
        "import bisection_method as bm\n",
        "import math\n",
        "\n",
        "def func_example( theta ):\n",
        "  V0 = 10\n",
        "  g = 9.81\n",
        "  x_trav = 10\n",
        "  return x_trav - V0 **2 * np.sin( 2 * theta ) / g\n",
        "\n",
        "abs_tol = 10**(-10)\n",
        "rel_tol = 10**(-10)\n",
        "max_iter = 50\n",
        "verbose = False\n",
        "\n",
        "a = 0.001\n",
        "b = np.pi / 4 - 0.001\n",
        "\n",
        "V0_ = 10\n",
        "g_ = 9.81\n",
        "x_trav_ = 10\n",
        "known_answer = 0.5 * np.arcsin(x_trav_ * g_ / V0_**2)\n",
        "\n",
        "solver = bm.BisectionSolver(abs_tol = abs_tol, rel_tol = rel_tol, max_iter = max_iter, verbose = verbose)\n",
        "calculated_answer = solver.solve( func_example, a, b )\n",
        "\n",
        "print(f'The calculated answer is {calculated_answer}, the known answer is {known_answer}')\n",
        "print( f'The test result is {np.isclose( calculated_answer, known_answer )} \\n')\n"
      ],
      "metadata": {
        "colab": {
          "base_uri": "https://localhost:8080/"
        },
        "id": "tQfbvoZq9yuX",
        "outputId": "ab5fb2a6-8bfa-4679-902a-bb0195af4f53"
      },
      "execution_count": 6,
      "outputs": [
        {
          "output_type": "stream",
          "name": "stdout",
          "text": [
            "The calculated answer is 0.687775232202545, the known answer is 0.6877752322144834\n",
            "The test result is True \n",
            "\n"
          ]
        }
      ]
    },
    {
      "cell_type": "markdown",
      "source": [
        "---\n",
        "**Example 5: Projectile Problem B**\n",
        "\n",
        "Consider the same projectile problem as before. This time the angle is known. How far does the ball travel horizentally before it hits the ground? Find $x_traveled$ given the following information.\n",
        "Find the θ numerically using bisection method, given the following values.\n",
        "\n",
        "$g=9.81m/s^2$  \n",
        "$V_0=10m/s^2$  \n",
        "$\\theta= \\frac{\\pi}{3}$   \n",
        "\n",
        "\n",
        "---\n",
        "**Answer:**  \n",
        "$x = V_0 cos(\\theta) t$ → $t = \\frac{x}{V_0 cos(\\theta)} $  \n",
        "$y = V_0 sin(\\theta)t - \\frac{1}{2}gt^2$ →$y = x tan\\theta - \\frac{gx^2}{2V_0^2cos^2\\theta}$  \n",
        "\n",
        "We need to find the $x_{traveled}$ in this equation:    \n",
        "$x_{traveled} tan\\theta - \\frac{gx_{traveled}^2}{2V_0^2cos^2\\theta} = 0$\n",
        "\n",
        "PS: Analytical answer ⇒ $x_{traveled} = \\frac{V_0^2sin(2\\theta)}{g}$\n"
      ],
      "metadata": {
        "id": "3xIZzvmp9zBY"
      }
    },
    {
      "cell_type": "code",
      "source": [
        "import numpy as np\n",
        "import bisection_method as bm\n",
        "import math\n",
        "\n",
        "def func_example( x ):\n",
        "  V0 = 10\n",
        "  g = 9.81\n",
        "  theta = np.pi/3\n",
        "  return x * np.tan( theta) - g * x**2 / (2 * V0**2 * np.cos(theta)**2 )\n",
        "\n",
        "abs_tol = 10**(-10)\n",
        "rel_tol = 10**(-10)\n",
        "max_iter = 50\n",
        "verbose = False\n",
        "\n",
        "a = 0.001\n",
        "b = 10\n",
        "\n",
        "V0_ = 10\n",
        "g_ = 9.81\n",
        "theta_ = np.pi / 3\n",
        "known_answer = V0_**2 * np.sin(2 * theta_) / g_\n",
        "\n",
        "solver = bm.BisectionSolver(abs_tol = abs_tol, rel_tol = rel_tol, max_iter = max_iter, verbose = verbose)\n",
        "calculated_answer = solver.solve( func_example, a, b )\n",
        "\n",
        "print(f'The calculated answer is {calculated_answer}, the known answer is {known_answer}')\n",
        "print( f'The test result is {np.isclose( calculated_answer, known_answer )} \\n')\n"
      ],
      "metadata": {
        "colab": {
          "base_uri": "https://localhost:8080/"
        },
        "id": "GWiOuAfeXAp0",
        "outputId": "1381e41f-e887-43d3-f127-b4f4bc44f8ee"
      },
      "execution_count": 8,
      "outputs": [
        {
          "output_type": "stream",
          "name": "stdout",
          "text": [
            "The calculated answer is 8.827985767398228, the known answer is 8.82798576742547\n",
            "The test result is True \n",
            "\n"
          ]
        }
      ]
    }
  ]
}
