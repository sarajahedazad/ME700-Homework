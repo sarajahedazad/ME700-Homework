{
  "nbformat": 4,
  "nbformat_minor": 0,
  "metadata": {
    "colab": {
      "provenance": [],
      "collapsed_sections": [
        "Z-cQydWUvO-U",
        "0oWwfnFi73DY"
      ]
    },
    "kernelspec": {
      "name": "python3",
      "display_name": "Python 3"
    },
    "language_info": {
      "name": "python"
    }
  },
  "cells": [
    {
      "cell_type": "code",
      "execution_count": 2,
      "metadata": {
        "id": "Y-GKk-xZ8qP-"
      },
      "outputs": [],
      "source": [
        "import numpy as np\n",
        "import math\n",
        "import matplotlib.pyplot as plt"
      ]
    },
    {
      "cell_type": "code",
      "source": [
        "def test_results( calculated_answer, known_answer ):\n",
        "  print(f'Te calculated answer is {calculated_answer}, the known answer is {known_answer}')\n",
        "  print( f'The test result is {np.isclose( calculated_answer, known_answer )} \\n')\n",
        "  return np.isclose( calculated_answer, known_answer )"
      ],
      "metadata": {
        "id": "ygZ87eHFuB5n"
      },
      "execution_count": 66,
      "outputs": []
    },
    {
      "cell_type": "markdown",
      "source": [
        "#Bisection Solver Class"
      ],
      "metadata": {
        "id": "Z-cQydWUvO-U"
      }
    },
    {
      "cell_type": "code",
      "source": [
        "# types of error to think about\n",
        "class OutofRangeError(Exception):\n",
        "    pass\n",
        "\n",
        "class MaximumIterationError(Exception):\n",
        "  pass\n",
        "\n",
        "class BisectionSolver:\n",
        "  def __init__(self, abs_tol = 10**(-10), rel_tol = 10**(-10), max_iter = 50 , verbose = False):\n",
        "    self.abs_tol = abs_tol #absolute tolearnce\n",
        "    self.rel_tol = rel_tol # relative tolerance\n",
        "    self.max_iter = max_iter # maximum number of iterations\n",
        "    self.verbose = verbose # whether to print out the debug information at each iteration or not\n",
        "\n",
        "  def solve( self, function, a: float, b: float )-> float:\n",
        "    lower_bound, upper_bound = sorted([a, b])\n",
        "\n",
        "    f_lb = function( lower_bound ) # value of the function at the lower bound\n",
        "    f_ub = function( upper_bound ) # value of the fucntion at the upper bound\n",
        "\n",
        "    if f_lb * f_ub > 0 :\n",
        "      raise OutofRangeError(\"No root in the provided range or unable to find any. \\n Changing the domain boundaries may help.\")\n",
        "    if f_lb == 0 :\n",
        "      return lower_bound\n",
        "    if f_ub == 0 :\n",
        "      return upper_bound\n",
        "\n",
        "    iter = 1\n",
        "    if f_lb * f_ub < 0 :\n",
        "      mid_point = ( lower_bound + upper_bound ) / 2\n",
        "      f_mid = function( mid_point )\n",
        "      while np.abs( ( upper_bound - lower_bound ) )> self.rel_tol or np.abs( f_mid ) > self.abs_tol :\n",
        "        if f_mid * f_ub > 0 :\n",
        "          upper_bound = mid_point\n",
        "          f_ub = f_mid\n",
        "        else:\n",
        "          lower_bound = mid_point\n",
        "          f_lb = f_mid\n",
        "\n",
        "        mid_point = ( lower_bound + upper_bound ) / 2\n",
        "        f_mid = function( mid_point )\n",
        "\n",
        "        if self.verbose:\n",
        "          print(f\"Iteration number { iter } completed \\n Upper bound: { upper_bound } , lower bound: {lower_bound }, midpoint {mid_point} \\n Function (f) value at the upper bound: { f_ub }, f at the lower point {f_lb}, f at the mid point {f_mid} \\n\")\n",
        "\n",
        "        iter += 1\n",
        "        if iter > self.max_iter:\n",
        "          raise MaximumIterationError(\"Maximum nummber of iterations reached. \\n Changing the values of the default maximum nunmber of iterations or tolerances may help.\")\n",
        "      return (upper_bound + lower_bound) / 2\n",
        "\n",
        "\n",
        "solver = BisectionSolver()"
      ],
      "metadata": {
        "id": "G54yYb0A8xzV"
      },
      "execution_count": 3,
      "outputs": []
    },
    {
      "cell_type": "markdown",
      "source": [
        "\n",
        "**class *BisectionSolver***  \n",
        "*Arributes*  \n",
        "**abs_tol**: absolute tolerance, default = $10^{-10}$  \n",
        "**rel_tol**: relative tolerance, default = $10^{-10}$  \n",
        "**max_iter**: maximum number of iteration allowed to run the bisection algorithm, default = 50  \n",
        "**verbose**: whether to print out the debug information at each iteration or not, default = False\n",
        "\n",
        "*Methods:*  \n",
        "**solve**  \n",
        "Parameter: function,a, b. a and b are the bounds of the range in which the function is evaluated. The order does not matter. The should accept only one input and return a single float value with the size of one.      \n",
        "returns: the root of the function\n",
        "\n",
        "**How to use the bisection method:**  \n",
        "\n",
        "```\n",
        "solver = BisectionSolver()  \n",
        "root = solver.solve( function, bound1, bound2 )\n",
        "```\n",
        "\n",
        "\n",
        "\n"
      ],
      "metadata": {
        "id": "nmlEhJIJ2QGY"
      }
    },
    {
      "cell_type": "markdown",
      "source": [
        "#Examples and Testing"
      ],
      "metadata": {
        "id": "0oWwfnFi73DY"
      }
    },
    {
      "cell_type": "markdown",
      "source": [
        "Functions"
      ],
      "metadata": {
        "id": "HrH3wIdlvYvy"
      }
    },
    {
      "cell_type": "code",
      "source": [
        "def func_example1(x):\n",
        "  return x - 1.5\n",
        "\n",
        "def func_example2(x):\n",
        "  return x**3 - 4 * x\n",
        "\n",
        "def func_example3(x):\n",
        "  return math.log(x+8)\n",
        "\n",
        "def func_example4(x):\n",
        "  return np.cos(x)\n",
        "\n",
        "def func_example5(x):\n",
        "  return math.e**x + math.e**(-x) - 2.2\n",
        "\n",
        "def func_example6(x):\n",
        "  return - x**2 + math.e**x"
      ],
      "metadata": {
        "id": "oM6sf0iOAgGr"
      },
      "execution_count": 43,
      "outputs": []
    },
    {
      "cell_type": "code",
      "source": [
        "print(\"test 1\")\n",
        "known_answer1 = 1.5\n",
        "calculated_answer1 = solver.solve( func_example1, -2, 5 )\n",
        "testresult1 = test_results( calculated_answer1, known_answer1 )\n",
        "\n",
        "print(\"test 2\")\n",
        "known_answer2 = 2\n",
        "calculated_answer2 = solver.solve( func_example2, 1, 4 )\n",
        "'''\n",
        "P S: There are a few things about testing the func_example2 and even some other functions\n",
        "that are discussed in the Discussion Section.\n",
        "'''\n",
        "testresult2 = test_results( calculated_answer2, known_answer2  )\n",
        "\n",
        "print(\"test 3\")\n",
        "known_answer3 = -7\n",
        "calculated_answer3 = solver.solve( func_example3, -7.5, 5 )\n",
        "testresult3 = test_results( calculated_answer3, known_answer3 )\n",
        "\n",
        "print(\"test 4\")\n",
        "known_answer4 = np.pi/2\n",
        "calculated_answer4 = solver.solve( func_example4, 0, 5 * np.pi / 4 )\n",
        "testresult4 = test_results( calculated_answer4, known_answer4 )\n",
        "\n",
        "# The roots for example 5 and 6 cannot be driven analytically.\n",
        "# I got the \"known roots\" from these two from chatGPT\n",
        "print(\"test 5\")\n",
        "known_answer5 = 0.443568\n",
        "calculated_answer5 = solver.solve( func_example5, 0, 1 )\n",
        "testresult5 = test_results( calculated_answer5, known_answer5 )\n",
        "\n",
        "print(\"test 6\")\n",
        "known_answer6 = -0.703467\n",
        "calculated_answer6 = solver.solve( func_example6, -1, 0 )\n",
        "testresult6 = test_results( calculated_answer6, known_answer6 )"
      ],
      "metadata": {
        "colab": {
          "base_uri": "https://localhost:8080/"
        },
        "id": "Lf7mxngOwBMw",
        "outputId": "aa246834-62e6-479a-9049-c65681430897"
      },
      "execution_count": 69,
      "outputs": [
        {
          "output_type": "stream",
          "name": "stdout",
          "text": [
            "test 1\n",
            "Te calculated answer is 1.5000000000254659, the known answer is 1.5\n",
            "The test result is True \n",
            "\n",
            "test 2\n",
            "Te calculated answer is 2.000000000007276, the known answer is 2\n",
            "The test result is True \n",
            "\n",
            "test 3\n",
            "Te calculated answer is -7.000000000034561, the known answer is -7\n",
            "The test result is True \n",
            "\n",
            "test 4\n",
            "Te calculated answer is 1.570796326800611, the known answer is 1.5707963267948966\n",
            "The test result is True \n",
            "\n",
            "test 5\n",
            "Te calculated answer is 0.443568254384445, the known answer is 0.443568\n",
            "The test result is True \n",
            "\n",
            "test 6\n",
            "Te calculated answer is -0.7034674224851187, the known answer is -0.703467\n",
            "The test result is True \n",
            "\n"
          ]
        }
      ]
    },
    {
      "cell_type": "markdown",
      "source": [
        "#Examples Related to the Field of Mechanics"
      ],
      "metadata": {
        "id": "g91Wx_Hm7_Vg"
      }
    },
    {
      "cell_type": "markdown",
      "source": [
        "**Example A:** A ball is launched at an initial velocity of $V_0$ and the angle  of θ relative to the horizon.    What should the θ be if the ball can travel for $x_{traveled}$ horizentally before it hits the ground?  \n",
        "\n",
        "Find the θ numerically using bisection method, given the following values.\n",
        "\n",
        "$g=9.81 m/s^2$ : gravitational acceleration  \n",
        "$V_0=10 m / s^2$ : initial magnitude of the velocity  \n",
        "$x_{traveled}=10 m$ : the distance that the ball travels horizontally before it hits the ground.  \n",
        "$x$ : horizental coordination   \n",
        "$y$ : vertical coordination     \n",
        "$t$ : time   \n",
        "$t_{ground} $ : the time at which the ball hits the ground        \n",
        "$V_y$ : velocity in the vertical direction  \n",
        "$V_x$ : velocity in the horizental direction  \n",
        "$\\theta$ : The angle that the direction of the velocity makes with the horizon   \n",
        "\n",
        "---\n",
        "**Answer:**  \n",
        "$V_x = V_0 cos(\\theta)$ → $x = \\int_{0}^{t} V_0 cos(\\theta) \\,dt = V_0 cos(\\theta)t$  \n",
        "$V_y = (V_0)_y - g t = V_0 sin(\\theta) - g t$ → $y = \\int_{0}^{t} (V_0 sin(\\theta) - gt) \\,dt = V_0 sin(\\theta)t - \\frac{1}{2}gt^2$  \n",
        "\n",
        "$t$ at $y = 0$ →  $V_0 sin(\\theta)t_{ground} - \\frac{1}{2}gt_{ground}^2=0$ → $t_{ground}=\\frac{2 V_0 sin\\theta}{g}$   \n",
        "$x_{traveled} = V_0 cos(\\theta) \\frac{2 V_0 sin\\theta}{g} = \\frac{V_0^2sin(2\\theta)}{g} $   \n",
        "\n",
        "So we have to solve the following equation for θ:  \n",
        "$x_{traveled} -\\frac{V_0^2sin(2\\theta)}{g} = 0 $    \n",
        "\n",
        "for  $g=9.81 m/s^2, V_0=10 m / s^2, x_{traveled}=10 m$\n",
        "\n",
        "PS: Analytical answer ⇒ $\\theta = \\frac{1}{2}sin^{-1}(\\frac{x_{traveled}g}{V_0^2 })$  \n",
        "\n"
      ],
      "metadata": {
        "id": "wXkpbJZzaUOJ"
      }
    },
    {
      "cell_type": "code",
      "source": [
        "def example_projectile_A( theta ):\n",
        "  V0 = 10\n",
        "  g = 9.81\n",
        "  x_trav = 10\n",
        "  return x_trav - V0 **2 * np.sin( 2 * theta ) / g"
      ],
      "metadata": {
        "id": "4rKZbGb8CREg"
      },
      "execution_count": 71,
      "outputs": []
    },
    {
      "cell_type": "code",
      "source": [
        "V0_ = 10\n",
        "g_ = 9.81\n",
        "x_trav_ = 10\n",
        "\n",
        "print(\"test A\")\n",
        "known_answerA = 0.5 * np.arcsin(x_trav_ * g_ / V0_**2)\n",
        "calculated_answerA = solver.solve( example_projectile_A,  0.001, np.pi / 4 - 0.001 )\n",
        "testresultA = test_results( calculated_answerA, known_answerA )"
      ],
      "metadata": {
        "id": "foIr_rc64QEa",
        "colab": {
          "base_uri": "https://localhost:8080/"
        },
        "outputId": "d6de74d5-29c3-45ce-ead7-e677b84e7ae8"
      },
      "execution_count": 73,
      "outputs": [
        {
          "output_type": "stream",
          "name": "stdout",
          "text": [
            "test A\n",
            "Te calculated answer is 0.687775232202545, the known answer is 0.6877752322144834\n",
            "The test result is True \n",
            "\n"
          ]
        }
      ]
    },
    {
      "cell_type": "markdown",
      "source": [
        "**Example B:** Consider the same projectile problem as before. This time the angle is known. How far does the ball travel horizentally before it hits the ground? Find $x_traveled$ given the following information.\n",
        "Find the θ numerically using bisection method, given the following values.\n",
        "\n",
        "$g=9.81m/s^2$  \n",
        "$V_0=10m/s^2$  \n",
        "$\\theta= \\frac{\\pi}{3}$   \n",
        "\n",
        "\n",
        "---\n",
        "**Answer:**\n",
        "**Answer:**  \n",
        "$x = V_0 cos(\\theta) t$ → $t = \\frac{x}{V_0 cos(\\theta)} $  \n",
        "$y = V_0 sin(\\theta)t - \\frac{1}{2}gt^2$ →$y = x tan\\theta - \\frac{gx^2}{2V_0^2cos^2\\theta}$  \n",
        "\n",
        "We need to find the $x_{traveled}$ in this equation:    \n",
        "$x_{traveled} tan\\theta - \\frac{gx_{traveled}^2}{2V_0^2cos^2\\theta} = 0$\n",
        "\n",
        "PS: Analytical answer ⇒ $x_{traveled} = \\frac{V_0^2sin(2\\theta)}{g}$\n"
      ],
      "metadata": {
        "id": "Mgk4jZopmt0T"
      }
    },
    {
      "cell_type": "code",
      "source": [
        "def example_projectile_B( x ):\n",
        "  V0 = 10\n",
        "  g = 9.81\n",
        "  theta = np.pi/3\n",
        "  return x * np.tan( theta) - g * x**2 / (2 * V0**2 * np.cos(theta)**2 )\n"
      ],
      "metadata": {
        "id": "P4f89d2VguUD"
      },
      "execution_count": 74,
      "outputs": []
    },
    {
      "cell_type": "code",
      "source": [
        "V0_ = 10\n",
        "g_ = 9.81\n",
        "theta_ = np.pi / 3\n",
        "\n",
        "print(\"test B\")\n",
        "known_answerB = V0_**2 * np.sin(2 * theta_) / g_\n",
        "calculated_answerB = solver.solve( example_projectile_B,  0.001, 10 )\n",
        "testresultB = test_results( calculated_answerB, known_answerB )"
      ],
      "metadata": {
        "colab": {
          "base_uri": "https://localhost:8080/"
        },
        "id": "f-l5NddKtBcs",
        "outputId": "aa121962-a5c4-4cb4-f66f-f2b689ce1b3f"
      },
      "execution_count": 75,
      "outputs": [
        {
          "output_type": "stream",
          "name": "stdout",
          "text": [
            "test B\n",
            "Te calculated answer is 8.827985767398228, the known answer is 8.82798576742547\n",
            "The test result is True \n",
            "\n"
          ]
        }
      ]
    },
    {
      "cell_type": "markdown",
      "source": [
        "#Discussion"
      ],
      "metadata": {
        "id": "XnzjI0mFt5Dd"
      }
    },
    {
      "cell_type": "markdown",
      "source": [
        "The bisection method suffers from several limitations. For example, there may be multiple solutions to a problem, but the bisection method can only find one; the specific solution it finds depends on the range provided (as seen in example two). Furthermore, even if a root exists within the provided range, the algorithm will not be able to find it if the function values at both ends of the range have the same sign. These issues can be addressed by using different and multiple ranges."
      ],
      "metadata": {
        "id": "_e2jTpZhvL_5"
      }
    }
  ]
}